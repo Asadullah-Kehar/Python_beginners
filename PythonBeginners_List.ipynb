{
 "cells": [
  {
   "cell_type": "markdown",
   "metadata": {},
   "source": [
    "# List\n",
    "   - List is mutable\n",
    "   - elements can be added and deleted in list\n",
    "   - list is ordered \n",
    "   - list is indexed\n",
    "   - duplicates are allowed in list\n",
    "   - list can contain hatrogenous types of data\n",
    "   - list may contain nested lists\n",
    "   - if some other types are constrained then we can convert in list and     perform operations\n",
    "    - "
   ]
  },
  {
   "cell_type": "code",
   "execution_count": 2,
   "metadata": {},
   "outputs": [
    {
     "name": "stdout",
     "output_type": "stream",
     "text": [
      "P\n"
     ]
    }
   ],
   "source": [
    "string1 = \"Python Programming\" # use negative indexing and print startingLette\n",
    "x = len(string1)\n",
    "print(string1[-(x)])\n"
   ]
  },
  {
   "cell_type": "code",
   "execution_count": 7,
   "metadata": {},
   "outputs": [
    {
     "name": "stdout",
     "output_type": "stream",
     "text": [
      "Pro\n"
     ]
    }
   ],
   "source": [
    "string1 = \"Python Programming\" # How to extract substring \"Pro\" from string\n",
    "print(string1[7:7+3])"
   ]
  },
  {
   "cell_type": "code",
   "execution_count": 20,
   "metadata": {},
   "outputs": [
    {
     "name": "stdout",
     "output_type": "stream",
     "text": [
      "orP\n",
      "\n",
      "Pro\n"
     ]
    }
   ],
   "source": [
    "string1 = \"Python Programming\" # How to extract substirng \"Pro\" by -ve indxng\n",
    "print(string1[-9:-12:-1])\n",
    "print(string1[-11:-8:-1])# will not print because -1 incr gets it outOfRange\n",
    "print(string1[-11:-8])\n"
   ]
  },
  {
   "cell_type": "code",
   "execution_count": 24,
   "metadata": {},
   "outputs": [
    {
     "name": "stdout",
     "output_type": "stream",
     "text": [
      "Programming\n",
      "o\n",
      "22\n",
      "2\n"
     ]
    }
   ],
   "source": [
    "list1 = [\"Python\", 1, True, [\"Programming\", \"Quiz\"], 4, [1, 22, 3]]\n",
    "# how to get the substring \"Programming\" ?\n",
    "print(list1[3][0])\n",
    "#How to get the letter of substring \"programming\" ?\n",
    "print(list1[3][0][2])\n",
    "#How to get 22 of sublist [1, 22, 3] ?\n",
    "print(list1[5][1])\n",
    "list2 = [\"Python\", 1, True, [\"Programming\", \"Quiz\"], 4, [1, \"22\", 3]]\n",
    "#How to get \"2\" of substring \"22\" of substring [1, \"22\", 3]\n",
    "print(list2[5][1][0])\n"
   ]
  },
  {
   "cell_type": "code",
   "execution_count": 25,
   "metadata": {},
   "outputs": [
    {
     "name": "stdout",
     "output_type": "stream",
     "text": [
      "3062581254384\n",
      "3062497689984\n"
     ]
    }
   ],
   "source": [
    "x = \"Pakistan\"\n",
    "print(id(x))\n",
    "print(id(x[4]))"
   ]
  },
  {
   "cell_type": "code",
   "execution_count": null,
   "metadata": {},
   "outputs": [],
   "source": []
  },
  {
   "cell_type": "markdown",
   "metadata": {},
   "source": [
    " # Data Types\n",
    "  - numbers:\n",
    "     -integers\n",
    "         -0/1 -> boolean\n",
    "     -floating-points\n",
    "     -complex\n",
    "         \n",
    "       \n",
    "   - sequences:  \n",
    "     -indexes\n",
    "         -lists\n",
    "         -tuples\n",
    "         -strings\n",
    "       -Non-indexed\n",
    "         -sets\n",
    "         \n",
    "   - NaN :\n",
    "   \n",
    "   \n",
    "   - maping :"
   ]
  },
  {
   "cell_type": "code",
   "execution_count": null,
   "metadata": {},
   "outputs": [],
   "source": []
  },
  {
   "cell_type": "code",
   "execution_count": 26,
   "metadata": {},
   "outputs": [
    {
     "name": "stdout",
     "output_type": "stream",
     "text": [
      "[1, 2, 3, 4, 5, 66]\n",
      "[66, 2, 3, 4, 5, 1]\n"
     ]
    }
   ],
   "source": [
    "#How to swap the first and last element of a list\n",
    "list = [1, 2, 3, 4, 5, 66]\n",
    "print(list)\n",
    "list[0], list[-1] = list[-1], list[0]\n",
    "print(list)"
   ]
  },
  {
   "cell_type": "code",
   "execution_count": null,
   "metadata": {},
   "outputs": [],
   "source": []
  }
 ],
 "metadata": {
  "kernelspec": {
   "display_name": "Python 3",
   "language": "python",
   "name": "python3"
  },
  "language_info": {
   "codemirror_mode": {
    "name": "ipython",
    "version": 3
   },
   "file_extension": ".py",
   "mimetype": "text/x-python",
   "name": "python",
   "nbconvert_exporter": "python",
   "pygments_lexer": "ipython3",
   "version": "3.7.3"
  }
 },
 "nbformat": 4,
 "nbformat_minor": 2
}
